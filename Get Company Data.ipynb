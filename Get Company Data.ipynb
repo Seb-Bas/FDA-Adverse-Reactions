{
 "cells": [
  {
   "cell_type": "code",
   "execution_count": 1,
   "metadata": {},
   "outputs": [],
   "source": [
    "import numpy as np\n",
    "import pandas as pd\n",
    "import warnings\n",
    "import pickle\n",
    "import json\n",
    "import requests\n",
    "\n",
    "warnings.filterwarnings('ignore')"
   ]
  },
  {
   "cell_type": "code",
   "execution_count": 2,
   "metadata": {},
   "outputs": [],
   "source": [
    "with open('drug-event-0001-of-0035.json') as json_file:\n",
    "    data = json.load(json_file)"
   ]
  },
  {
   "cell_type": "code",
   "execution_count": 3,
   "metadata": {},
   "outputs": [
    {
     "data": {
      "text/plain": [
       "{'manufacturer_name': ['Novo Nordisk'],\n",
       " 'unii': ['839I73S42A'],\n",
       " 'product_type': ['HUMAN PRESCRIPTION DRUG'],\n",
       " 'rxcui': ['1598268', '897122'],\n",
       " 'spl_set_id': ['3946d389-0926-4f77-a708-0acb8153b143'],\n",
       " 'route': ['SUBCUTANEOUS'],\n",
       " 'generic_name': ['LIRAGLUTIDE'],\n",
       " 'brand_name': ['SAXENDA'],\n",
       " 'product_ndc': ['0169-2800'],\n",
       " 'substance_name': ['LIRAGLUTIDE'],\n",
       " 'spl_id': ['88ec60c6-7a45-433e-b653-429a8d6179a0'],\n",
       " 'application_number': ['NDA206321'],\n",
       " 'package_ndc': ['0169-2800-90', '0169-2800-15', '0169-2800-97']}"
      ]
     },
     "execution_count": 3,
     "metadata": {},
     "output_type": "execute_result"
    }
   ],
   "source": [
    "data['results'][0]['patient']['drug'][0]['openfda']\n",
    "#len(obs[\"patient\"][\"drug\"])"
   ]
  },
  {
   "cell_type": "code",
   "execution_count": 5,
   "metadata": {},
   "outputs": [],
   "source": [
    "count_of_received = pickle.load(open('count_of_received.p', 'rb'))"
   ]
  },
  {
   "cell_type": "code",
   "execution_count": 6,
   "metadata": {},
   "outputs": [],
   "source": [
    "def define_time_intervals(json_results):\n",
    "    count = 0\n",
    "    date_cutoffs = []\n",
    "    for i in json_results:\n",
    "        if count == 0:\n",
    "            first_time = i['time']\n",
    "        if (count + i['count']) < 100:\n",
    "            count += i['count']\n",
    "        else:\n",
    "            date_cutoffs.append((first_time, i['time']))\n",
    "            count = 0\n",
    "    return date_cutoffs"
   ]
  },
  {
   "cell_type": "code",
   "execution_count": 7,
   "metadata": {},
   "outputs": [],
   "source": [
    "time_intervals = define_time_intervals(count_of_received)"
   ]
  },
  {
   "cell_type": "code",
   "execution_count": 8,
   "metadata": {},
   "outputs": [],
   "source": [
    "def get_company_data(data):\n",
    "    company_list = []\n",
    "    inter = data['results']\n",
    "    for i in range(len(data['results'])):\n",
    "        obs = inter[i]\n",
    "        patient_drug_nums = len(obs['patient']['drug'])\n",
    "        if patient_drug_nums == 1:\n",
    "            try:\n",
    "                manufact = obs['patient']['drug'][0]['openfda']['manufacturer_name']\n",
    "                if len(manufact) == 1:\n",
    "                    company_list.append(manufact)\n",
    "                else:\n",
    "                    company_list.append(np.nan)\n",
    "            except:\n",
    "                    company_list.append(np.nan)\n",
    "        else:\n",
    "            company_list.append(np.nan)\n",
    "    \n",
    "    return pd.Series(company_list)"
   ]
  },
  {
   "cell_type": "code",
   "execution_count": 9,
   "metadata": {},
   "outputs": [],
   "source": [
    "def get_json_data_by_company(time_intervals):\n",
    "    all_data = []\n",
    "    for time in time_intervals:\n",
    "        url = f'https://api.fda.gov/drug/event.json?search=receivedate:[{time[0]}+TO+{time[1]}]&limit=99'\n",
    "        data = requests.get(url).json()\n",
    "        all_data.append(get_company_data(data))\n",
    "    series = pd.concat(all_data)\n",
    "    return series"
   ]
  },
  {
   "cell_type": "code",
   "execution_count": 65,
   "metadata": {},
   "outputs": [],
   "source": [
    "#companies = get_json_data_by_company(time_intervals)"
   ]
  },
  {
   "cell_type": "code",
   "execution_count": 69,
   "metadata": {},
   "outputs": [],
   "source": [
    "#pickle.dump(companies, open('pickles/company_info.p', 'wb'))"
   ]
  },
  {
   "cell_type": "code",
   "execution_count": 70,
   "metadata": {},
   "outputs": [],
   "source": [
    "final_dataframe = pickle.load(open('final_dataframe.p', 'rb'))"
   ]
  },
  {
   "cell_type": "code",
   "execution_count": 78,
   "metadata": {},
   "outputs": [],
   "source": [
    "final_dataframe['company'] = companies.values"
   ]
  },
  {
   "cell_type": "code",
   "execution_count": null,
   "metadata": {},
   "outputs": [],
   "source": []
  },
  {
   "cell_type": "code",
   "execution_count": 80,
   "metadata": {},
   "outputs": [],
   "source": [
    "#pickle.dump(final_dataframe, open('pickles/final_dataframe.p', 'wb'))"
   ]
  },
  {
   "cell_type": "code",
   "execution_count": 11,
   "metadata": {},
   "outputs": [
    {
     "ename": "NameError",
     "evalue": "name 'final_dataframe' is not defined",
     "output_type": "error",
     "traceback": [
      "\u001b[0;31m---------------------------------------------------------------------------\u001b[0m",
      "\u001b[0;31mNameError\u001b[0m                                 Traceback (most recent call last)",
      "\u001b[0;32m<ipython-input-11-aed2361cf63b>\u001b[0m in \u001b[0;36m<module>\u001b[0;34m()\u001b[0m\n\u001b[0;32m----> 1\u001b[0;31m \u001b[0mlen\u001b[0m\u001b[0;34m(\u001b[0m\u001b[0mfinal_dataframe\u001b[0m\u001b[0;34m[\u001b[0m\u001b[0mfinal_dataframe\u001b[0m\u001b[0;34m[\u001b[0m\u001b[0;34m'company'\u001b[0m\u001b[0;34m]\u001b[0m\u001b[0;34m.\u001b[0m\u001b[0misna\u001b[0m\u001b[0;34m(\u001b[0m\u001b[0;34m)\u001b[0m\u001b[0;34m]\u001b[0m\u001b[0;34m)\u001b[0m\u001b[0;34m\u001b[0m\u001b[0m\n\u001b[0m",
      "\u001b[0;31mNameError\u001b[0m: name 'final_dataframe' is not defined"
     ]
    }
   ],
   "source": [
    "len(final_dataframe[final_dataframe['company'].isna()])"
   ]
  },
  {
   "cell_type": "code",
   "execution_count": null,
   "metadata": {},
   "outputs": [],
   "source": []
  }
 ],
 "metadata": {
  "kernelspec": {
   "display_name": "Python 3",
   "language": "python",
   "name": "python3"
  },
  "language_info": {
   "codemirror_mode": {
    "name": "ipython",
    "version": 3
   },
   "file_extension": ".py",
   "mimetype": "text/x-python",
   "name": "python",
   "nbconvert_exporter": "python",
   "pygments_lexer": "ipython3",
   "version": "3.6.5"
  }
 },
 "nbformat": 4,
 "nbformat_minor": 2
}

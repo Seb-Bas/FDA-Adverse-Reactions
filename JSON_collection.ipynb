{
 "cells": [
  {
   "cell_type": "code",
   "execution_count": 1,
   "metadata": {},
   "outputs": [],
   "source": [
    "import numpy as np\n",
    "import pandas as pd\n",
    "import warnings\n",
    "import pickle\n",
    "import json\n",
    "import requests\n",
    "import time as tm\n",
    "import make_dataframe as md\n",
    "\n",
    "warnings.filterwarnings('ignore')"
   ]
  },
  {
   "cell_type": "code",
   "execution_count": 2,
   "metadata": {},
   "outputs": [],
   "source": [
    "#pickle.dump(count_of_received, open('count_of_received.p', 'wb'))\n",
    "count_of_received = pickle.load(open('count_of_received.p', 'rb'))"
   ]
  },
  {
   "cell_type": "code",
   "execution_count": null,
   "metadata": {},
   "outputs": [],
   "source": [
    "count_of_received = requests.get('https://api.fda.gov/drug/event.json?search=receivedate:[20040101+TO+20190926]&count=receivedate')\n",
    "count_of_received = count_of_received.json()['results']"
   ]
  },
  {
   "cell_type": "code",
   "execution_count": 3,
   "metadata": {},
   "outputs": [],
   "source": [
    "def define_time_intervals(json_results):\n",
    "    count = 0\n",
    "    date_cutoffs = []\n",
    "    for i in json_results:\n",
    "        if count == 0:\n",
    "            first_time = i['time']\n",
    "        if (count + i['count']) < 100:\n",
    "            count += i['count']\n",
    "        else:\n",
    "            date_cutoffs.append((first_time, i['time']))\n",
    "            count = 0\n",
    "    return date_cutoffs"
   ]
  },
  {
   "cell_type": "code",
   "execution_count": 5,
   "metadata": {},
   "outputs": [
    {
     "data": {
      "text/plain": [
       "4564"
      ]
     },
     "execution_count": 5,
     "metadata": {},
     "output_type": "execute_result"
    }
   ],
   "source": [
    "time_intervals = define_time_intervals(count_of_received)"
   ]
  },
  {
   "cell_type": "code",
   "execution_count": null,
   "metadata": {},
   "outputs": [],
   "source": [
    "def get_json_data(time_intervals):\n",
    "    all_data = []\n",
    "    for time in time_intervals:\n",
    "        url = f'https://api.fda.gov/drug/event.json?search=receivedate:[{time[0]}+TO+{time[1]}]&limit=99'\n",
    "        data = requests.get(url).json()\n",
    "        all_data.append(md.get_all_data(data))\n",
    "    df = pd.concat(all_data)\n",
    "    df['receivedate'] = pd.to_datetime(df['receivedate'])\n",
    "    df = df.set_index('receivedate')\n",
    "    return df"
   ]
  },
  {
   "cell_type": "code",
   "execution_count": null,
   "metadata": {},
   "outputs": [],
   "source": [
    "# final_dataframe = get_json_data(time_intervals)\n",
    "# pickle.dump(final_dataframe, open('final_dataframe.p', 'wb'))"
   ]
  },
  {
   "cell_type": "code",
   "execution_count": null,
   "metadata": {},
   "outputs": [],
   "source": [
    "final_dataframe.shape"
   ]
  },
  {
   "cell_type": "code",
   "execution_count": null,
   "metadata": {},
   "outputs": [],
   "source": []
  },
  {
   "cell_type": "code",
   "execution_count": null,
   "metadata": {},
   "outputs": [],
   "source": []
  }
 ],
 "metadata": {
  "kernelspec": {
   "display_name": "Python 3",
   "language": "python",
   "name": "python3"
  },
  "language_info": {
   "codemirror_mode": {
    "name": "ipython",
    "version": 3
   },
   "file_extension": ".py",
   "mimetype": "text/x-python",
   "name": "python",
   "nbconvert_exporter": "python",
   "pygments_lexer": "ipython3",
   "version": "3.6.5"
  }
 },
 "nbformat": 4,
 "nbformat_minor": 2
}
